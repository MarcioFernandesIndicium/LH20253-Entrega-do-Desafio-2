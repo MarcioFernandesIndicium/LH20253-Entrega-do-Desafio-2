{
 "cells": [
  {
   "cell_type": "code",
   "execution_count": 0,
   "metadata": {
    "application/vnd.databricks.v1+cell": {
     "cellMetadata": {
      "byteLimit": 2048000,
      "rowLimit": 10000
     },
     "inputWidgets": {},
     "nuid": "5b2f1834-907c-43e0-b1c9-9482572cc74e",
     "showTitle": false,
     "tableResultSettingsMap": {},
     "title": ""
    }
   },
   "outputs": [
    {
     "output_type": "stream",
     "name": "stdout",
     "output_type": "stream",
     "text": [
      "Criando tabela: ted_dev.dev_marcio_fernandes.raw_db_Sales_CountryRegionCurrency\nCriando tabela: ted_dev.dev_marcio_fernandes.raw_db_Sales_Currency\nCriando tabela: ted_dev.dev_marcio_fernandes.raw_db_Sales_Customer\n"
     ]
    }
   ],
   "source": [
    "from pyspark.sql import SparkSession\n",
    "\n",
    "spark = SparkSession.builder.getOrCreate()\n",
    "\n",
    "path_raw = \"dbfs:/Volumes/ted_dev/dev_marcio_fernandes/raw/extracted_from_db/\" \n",
    "\n",
    "endpoints = [\n",
    "    f.name.rstrip(\"/\")\n",
    "    for f in dbutils.fs.ls(path_raw)\n",
    "    if f.isDir()\n",
    "    ]\n",
    "\n",
    "for endpoint in endpoints:\n",
    "    parquet_path = f\"/Volumes/ted_dev/dev_marcio_fernandes/raw/extracted_from_db/{endpoint}/\"\n",
    "    table_name = f\"ted_dev.dev_marcio_fernandes.raw_db_{endpoint.replace('-', '_')}\"\n",
    "\n",
    "    sql = f\"\"\"\n",
    "        CREATE OR REPLACE TABLE {table_name}\n",
    "        AS \n",
    "        SELECT * FROM parquet.`{parquet_path}`\n",
    "    \"\"\"\n",
    "\n",
    "    print(f\"Criando tabela: {table_name}\")\n",
    "    spark.sql(sql)"
   ]
  }
 ],
 "metadata": {
  "application/vnd.databricks.v1+notebook": {
   "computePreferences": null,
   "dashboards": [],
   "environmentMetadata": {
    "base_environment": "",
    "environment_version": "2"
   },
   "inputWidgetPreferences": null,
   "language": "python",
   "notebookMetadata": {
    "pythonIndentUnit": 4
   },
   "notebookName": "criar_tabelas_delta_db",
   "widgets": {}
  },
  "language_info": {
   "name": "python"
  }
 },
 "nbformat": 4,
 "nbformat_minor": 0
}