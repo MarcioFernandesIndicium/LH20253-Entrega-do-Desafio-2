{
 "cells": [
  {
   "cell_type": "code",
   "execution_count": 0,
   "metadata": {
    "application/vnd.databricks.v1+cell": {
     "cellMetadata": {
      "byteLimit": 2048000,
      "rowLimit": 10000
     },
     "inputWidgets": {},
     "nuid": "011888e2-6824-4ce5-8f3d-0416a9f1dc90",
     "showTitle": false,
     "tableResultSettingsMap": {},
     "title": ""
    }
   },
   "outputs": [],
   "source": [
    "dbutils.widgets.text(\"catalog\", \"\", \"Catalog\")\n",
    "dbutils.widgets.text(\"schema\", \"\", \"Schema\")\n",
    "dbutils.widgets.text(\"volume\", \"\", \"Volume\")\n",
    "dbutils.widgets.text(\"source_folder\", \"\", \"Source Folder\")"
   ]
  },
  {
   "cell_type": "code",
   "execution_count": 0,
   "metadata": {
    "application/vnd.databricks.v1+cell": {
     "cellMetadata": {
      "byteLimit": 2048000,
      "rowLimit": 10000
     },
     "inputWidgets": {},
     "nuid": "5988e6aa-9452-4617-a449-3be88ce2e765",
     "showTitle": false,
     "tableResultSettingsMap": {},
     "title": ""
    }
   },
   "outputs": [
    {
     "name": "stdout",
     "output_type": "stream",
     "text": [
      "Path de leitura: dbfs:/Volumes/ted_dev/dev_marcio_fernandes/raw/extracted_from_db\n"
     ]
    }
   ],
   "source": [
    "from pyspark.sql import SparkSession\n",
    "\n",
    "spark = SparkSession.builder.getOrCreate()\n",
    "\n",
    "# Testando parametros via widgets\n",
    "catalog = dbutils.widgets.get(\"catalog\")\n",
    "schema = dbutils.widgets.get(\"schema\")\n",
    "volume = dbutils.widgets.get(\"volume\")\n",
    "source_folder = dbutils.widgets.get(\"source_folder\")\n",
    "\n",
    "path_raw = f\"dbfs:/Volumes/{catalog}/{schema}/{volume}/{source_folder}\"\n",
    "\n",
    "print(f\"Path de leitura: {path_raw}\")\n",
    "\n"
   ]
  },
  {
   "cell_type": "code",
   "execution_count": 0,
   "metadata": {
    "application/vnd.databricks.v1+cell": {
     "cellMetadata": {
      "byteLimit": 2048000,
      "rowLimit": 10000
     },
     "inputWidgets": {},
     "nuid": "c8699a56-1fc5-40ac-90eb-15a35339c995",
     "showTitle": false,
     "tableResultSettingsMap": {},
     "title": ""
    }
   },
   "outputs": [
    {
     "name": "stdout",
     "output_type": "stream",
     "text": [
      "Endpoints: ['HumanResources-Department', 'HumanResources-Employee', 'HumanResources-EmployeeDepartmentHistory', 'HumanResources-EmployeePayHistory', 'HumanResources-JobCandidate', 'HumanResources-Shift', 'Person-Address', 'Person-AddressType', 'Person-BusinessEntity', 'Person-BusinessEntityAddress', 'Person-BusinessEntityContact', 'Person-ContactType', 'Person-CountryRegion', 'Person-EmailAddress', 'Person-Person', 'Person-PersonPhone', 'Person-PhoneNumberType', 'Person-StateProvince', 'Production-BillOfMaterials', 'Production-Location', 'Production-Product', 'Production-ProductCategory', 'Production-ProductCostHistory', 'Production-ProductDescription', 'Production-ProductListPriceHistory', 'Production-ProductSubcategory', 'Production-TransactionHistory', 'Purchasing-ProductVendor', 'Purchasing-PurchaseOrderDetail', 'Purchasing-PurchaseOrderHeader', 'Purchasing-ShipMethod', 'Purchasing-Vendor', 'Sales-CountryRegionCurrency', 'Sales-CreditCard', 'Sales-Currency', 'Sales-CurrencyRate', 'Sales-Customer', 'Sales-PersonCreditCard', 'Sales-SalesOrderDetail', 'Sales-SalesOrderHeader', 'Sales-SalesOrderHeaderSalesReason', 'Sales-SalesPerson', 'Sales-SalesReason', 'Sales-SalesTaxRate', 'Sales-SalesTerritory', 'Sales-SalesTerritoryHistory', 'Sales-ShoppingCartItem', 'Sales-SpecialOffer', 'Sales-SpecialOfferProduct', 'Sales-Store']\n"
     ]
    }
   ],
   "source": [
    "endpoints = [\n",
    "    f.name.rstrip(\"/\")\n",
    "    for f in dbutils.fs.ls(path_raw)\n",
    "    if f.isDir()\n",
    "]\n",
    "\n",
    "print (f\"Endpoints: {endpoints}\")"
   ]
  },
  {
   "cell_type": "code",
   "execution_count": 0,
   "metadata": {
    "application/vnd.databricks.v1+cell": {
     "cellMetadata": {
      "byteLimit": 2048000,
      "rowLimit": 10000
     },
     "inputWidgets": {},
     "nuid": "6ae95fa1-e6c6-4964-9b73-1dc60cbd7d46",
     "showTitle": false,
     "tableResultSettingsMap": {},
     "title": ""
    }
   },
   "outputs": [],
   "source": [
    "for endpoint in endpoints:\n",
    "    parquet_path = f\"/Volumes/{catalog}/{schema}/{volume}/{source_folder}/{endpoint}/\"\n",
    "    table_name = f\"{catalog}.{schema}.raw_db_{endpoint.replace('-', '_')}\"\n",
    "    \n",
    "    sql = f\"\"\"\n",
    "        CREATE OR REPLACE TABLE {table_name}\n",
    "        AS\n",
    "        SELECT * FROM parquet.`{parquet_path}`\n",
    "    \"\"\"\n",
    "\n",
    "    print(f\"Criando tabela: {table_name}\")\n",
    "    spark.sql(sql)"
   ]
  }
 ],
 "metadata": {
  "application/vnd.databricks.v1+notebook": {
   "computePreferences": null,
   "dashboards": [],
   "environmentMetadata": {
    "base_environment": "",
    "environment_version": "2"
   },
   "inputWidgetPreferences": null,
   "language": "python",
   "notebookMetadata": {
    "pythonIndentUnit": 4
   },
   "notebookName": "create_raw_tables_db",
   "widgets": {
    "catalog": {
     "currentValue": "ted_dev",
     "nuid": "b4b37e65-8a72-48bf-958d-f052c090e7ca",
     "typedWidgetInfo": {
      "autoCreated": false,
      "defaultValue": "ted_dev",
      "label": "Catalog",
      "name": "catalog",
      "options": {
       "validationRegex": null,
       "widgetDisplayType": "Text"
      },
      "parameterDataType": "String"
     },
     "widgetInfo": {
      "defaultValue": "ted_dev",
      "label": "Catalog",
      "name": "catalog",
      "options": {
       "autoCreated": false,
       "validationRegex": null,
       "widgetType": "text"
      },
      "widgetType": "text"
     }
    },
    "schema": {
     "currentValue": "dev_marcio_fernandes",
     "nuid": "399ccbb2-059e-492f-a2f2-1d90ceab7596",
     "typedWidgetInfo": {
      "autoCreated": false,
      "defaultValue": "dev_marcio_fernandes",
      "label": "Schema",
      "name": "schema",
      "options": {
       "validationRegex": null,
       "widgetDisplayType": "Text"
      },
      "parameterDataType": "String"
     },
     "widgetInfo": {
      "defaultValue": "dev_marcio_fernandes",
      "label": "Schema",
      "name": "schema",
      "options": {
       "autoCreated": false,
       "validationRegex": null,
       "widgetType": "text"
      },
      "widgetType": "text"
     }
    },
    "source_folder": {
     "currentValue": "extracted_from_db",
     "nuid": "0f53cfd5-bcf8-4e60-ad68-4915316fcb5e",
     "typedWidgetInfo": {
      "autoCreated": false,
      "defaultValue": "extracted_from_db",
      "label": "Source Folder",
      "name": "source_folder",
      "options": {
       "validationRegex": null,
       "widgetDisplayType": "Text"
      },
      "parameterDataType": "String"
     },
     "widgetInfo": {
      "defaultValue": "extracted_from_db",
      "label": "Source Folder",
      "name": "source_folder",
      "options": {
       "autoCreated": false,
       "validationRegex": null,
       "widgetType": "text"
      },
      "widgetType": "text"
     }
    },
    "volume": {
     "currentValue": "raw",
     "nuid": "076028c4-5b1b-4d37-9d86-9c2fbdcd0968",
     "typedWidgetInfo": {
      "autoCreated": false,
      "defaultValue": "raw",
      "label": "Volume",
      "name": "volume",
      "options": {
       "validationRegex": null,
       "widgetDisplayType": "Text"
      },
      "parameterDataType": "String"
     },
     "widgetInfo": {
      "defaultValue": "raw",
      "label": "Volume",
      "name": "volume",
      "options": {
       "autoCreated": false,
       "validationRegex": null,
       "widgetType": "text"
      },
      "widgetType": "text"
     }
    }
   }
  },
  "language_info": {
   "name": "python"
  }
 },
 "nbformat": 4,
 "nbformat_minor": 0
}
