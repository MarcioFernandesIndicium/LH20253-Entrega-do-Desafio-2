{
 "cells": [
  {
   "cell_type": "code",
   "execution_count": 0,
   "metadata": {
    "application/vnd.databricks.v1+cell": {
     "cellMetadata": {
      "byteLimit": 2048000,
      "rowLimit": 10000
     },
     "inputWidgets": {},
     "nuid": "4e97d1e6-9077-4599-b3e6-9d3c420720b4",
     "showTitle": false,
     "tableResultSettingsMap": {},
     "title": ""
    }
   },
   "outputs": [
    {
     "output_type": "stream",
     "name": "stdout",
     "output_type": "stream",
     "text": [
      "Criando tabela: ted_dev.dev_marcio_fernandes.raw_api_PurchaseOrderHeader\n"
     ]
    }
   ],
   "source": [
    "from pyspark.sql import SparkSession\n",
    "\n",
    "spark = SparkSession.builder.getOrCreate()\n",
    "\n",
    "path_raw = \"dbfs:/Volumes/ted_dev/dev_marcio_fernandes/raw/extracted_from_api/\" \n",
    "\n",
    "endpoints = [\n",
    "    f.name.rstrip(\"/\")\n",
    "    for f in dbutils.fs.ls(path_raw)\n",
    "    if f.isDir()\n",
    "    ]\n",
    "\n",
    "for endpoint in endpoints:\n",
    "    parquet_path = f\"/Volumes/ted_dev/dev_marcio_fernandes/raw/extracted_from_api/{endpoint}/\"\n",
    "    table_name = f\"ted_dev.dev_marcio_fernandes.raw_api_{endpoint}\"\n",
    "\n",
    "    sql = f\"\"\"\n",
    "        CREATE OR REPLACE TABLE {table_name}\n",
    "        AS \n",
    "        SELECT * FROM parquet.`{parquet_path}`\n",
    "    \"\"\"\n",
    "\n",
    "    print(f\"Criando tabela: {table_name}\")\n",
    "    spark.sql(sql)\n",
    "\n"
   ]
  }
 ],
 "metadata": {
  "application/vnd.databricks.v1+notebook": {
   "computePreferences": null,
   "dashboards": [],
   "environmentMetadata": {
    "base_environment": "",
    "environment_version": "2"
   },
   "inputWidgetPreferences": null,
   "language": "python",
   "notebookMetadata": {
    "pythonIndentUnit": 4
   },
   "notebookName": "criar_tabela_delta",
   "widgets": {}
  },
  "language_info": {
   "name": "python"
  }
 },
 "nbformat": 4,
 "nbformat_minor": 0
}